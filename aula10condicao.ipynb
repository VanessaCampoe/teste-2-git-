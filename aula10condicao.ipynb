{
 "cells": [
  {
   "cell_type": "markdown",
   "metadata": {},
   "source": [
    "Aula 10 – Condições (Parte 1)"
   ]
  },
  {
   "cell_type": "code",
   "execution_count": 3,
   "metadata": {},
   "outputs": [
    {
     "name": "stdout",
     "output_type": "stream",
     "text": [
      "Seu nome é tão normal\n",
      "Bom dia,vanessa\n"
     ]
    }
   ],
   "source": [
    "nome = str(input(\"qual  seu nome?\")) # aqui temos uma condição compots , quando não temos o else é uma condição simples\n",
    "if nome ==\" Gustavo\":\n",
    "    print('Qual nome lindo você tem!')\n",
    "else:\n",
    "    print('Seu nome é tão normal')\n",
    "print('Bom dia,{}!'.format(nome))\n",
    "\n"
   ]
  },
  {
   "cell_type": "code",
   "execution_count": 7,
   "metadata": {},
   "outputs": [
    {
     "name": "stdout",
     "output_type": "stream",
     "text": [
      "Bom dia,2.5!\n"
     ]
    }
   ],
   "source": [
    "#Condição simples sem o else\n",
    "nome = str(input(\"qual  seu nome?\")) # aqui temos uma condição compots , quando não temos o else é uma condição simples\n",
    "if nome ==\" Gustavo\":\n",
    "    print('Qual nome lindo você tem!')\n",
    "\n",
    "    print('Seu nome é tão normal')\n",
    "print('Bom dia,{}!'.format(nome))"
   ]
  },
  {
   "cell_type": "code",
   "execution_count": 4,
   "metadata": {},
   "outputs": [
    {
     "name": "stdout",
     "output_type": "stream",
     "text": [
      "A sua média foi5.0\n"
     ]
    }
   ],
   "source": [
    "n1 = float(input('Digite a primeira nota:'))\n",
    "n2 = float(input('Digite a segunda nota:'))\n",
    "m = (n1 + n2)/2\n",
    "print('A sua média foi {:.1f}'.format(m))\n"
   ]
  },
  {
   "cell_type": "code",
   "execution_count": 5,
   "metadata": {},
   "outputs": [
    {
     "name": "stdout",
     "output_type": "stream",
     "text": [
      "A sua média foi 4.0\n",
      "Sua nota foi ruim! Estude mais!\n"
     ]
    }
   ],
   "source": [
    "# condição composta \n",
    "n1 = float(input('Digite a primeira nota:'))\n",
    "n2 = float(input('Digite a segunda nota:'))\n",
    "m = (n1 + n2)/2\n",
    "print('A sua média foi {:.1f}'.format(m))\n",
    "if m>= 6.0:\n",
    "    print('Sua média foi boa!Parabéns!')\n",
    "else:\n",
    "    print('Sua nota foi ruim! Estude mais!')\n",
    "\n"
   ]
  },
  {
   "cell_type": "code",
   "execution_count": 6,
   "metadata": {},
   "outputs": [
    {
     "name": "stdout",
     "output_type": "stream",
     "text": [
      "A sua média foi 3.0\n",
      "Esrude mais!\n"
     ]
    }
   ],
   "source": [
    "# condição simplificada\n",
    "n1 = float(input('Digite a primeira nota:'))\n",
    "n2 = float(input('Digite a segunda nota:'))\n",
    "m = (n1 + n2)/2\n",
    "print('A sua média foi {:.1f}'.format(m))\n",
    "print('Parabéns'if m >=6 else 'Estude mais!')"
   ]
  },
  {
   "cell_type": "markdown",
   "metadata": {},
   "source": [
    "desafio 028\n",
    "Exercício Python 28: Escreva um programa que faça o computador “pensar” em um número inteiro entre 0 e 5 e peça para o usuário tentar descobrir qual foi o número escolhido pelo computador. O programa deverá escrever na tela se o usuário venceu ou perdeu."
   ]
  },
  {
   "cell_type": "markdown",
   "metadata": {},
   "source": [
    "desafio 0"
   ]
  },
  {
   "cell_type": "markdown",
   "metadata": {},
   "source": [
    "desafio 0"
   ]
  },
  {
   "cell_type": "markdown",
   "metadata": {},
   "source": [
    "desafio 0"
   ]
  },
  {
   "cell_type": "code",
   "execution_count": null,
   "metadata": {},
   "outputs": [],
   "source": [
    "\n",
    "\n",
    "\n",
    "\n"
   ]
  },
  {
   "cell_type": "code",
   "execution_count": null,
   "metadata": {},
   "outputs": [],
   "source": []
  }
 ],
 "metadata": {
  "kernelspec": {
   "display_name": "Python 3",
   "language": "python",
   "name": "python3"
  },
  "language_info": {
   "codemirror_mode": {
    "name": "ipython",
    "version": 3
   },
   "file_extension": ".py",
   "mimetype": "text/x-python",
   "name": "python",
   "nbconvert_exporter": "python",
   "pygments_lexer": "ipython3",
   "version": "3.12.4"
  }
 },
 "nbformat": 4,
 "nbformat_minor": 2
}
