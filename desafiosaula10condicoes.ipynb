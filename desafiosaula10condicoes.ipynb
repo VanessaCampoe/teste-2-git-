{
 "cells": [
  {
   "cell_type": "markdown",
   "metadata": {},
   "source": [
    "Desafio 028\n",
    "Exercício Python 28: Escreva um programa que faça o computador “pensar” em um número inteiro entre 0 e 5 e peça para o usuário tentar descobrir qual foi o número escolhido pelo computador. O programa deverá escrever na tela se o usuário venceu ou perdeu."
   ]
  },
  {
   "cell_type": "code",
   "execution_count": 1,
   "metadata": {},
   "outputs": [
    {
     "name": "stdout",
     "output_type": "stream",
     "text": [
      "Pense no número 0\n"
     ]
    }
   ],
   "source": [
    "from random import randint\n",
    "computador = randint(0,5)#faz o computador pensar , na verdade ele sortei um numero dentro os que dei de opção \n",
    "print(\"Pense no número {}\".format(computador))"
   ]
  },
  {
   "cell_type": "code",
   "execution_count": 3,
   "metadata": {},
   "outputs": [
    {
     "name": "stdout",
     "output_type": "stream",
     "text": [
      "-=--=--=--=--=--=--=--=--=--=-\n",
      "Vou pensar em um número entre 0 e 5. Tente adivinhar...\n",
      "-=--=--=--=--=--=--=--=--=--=-\n"
     ]
    }
   ],
   "source": [
    "from random import randint\n",
    "computador = randint(0,5)\n",
    "print('-=-'*10)\n",
    "print('Vou pensar em um número entre 0 e 5. Tente adivinhar...')\n",
    "print('-=-'*10)\n",
    "jogador = int(input(\"Em que número eu pensei?\")) # jogador tentando adivinhar "
   ]
  },
  {
   "cell_type": "code",
   "execution_count": 8,
   "metadata": {},
   "outputs": [
    {
     "name": "stdout",
     "output_type": "stream",
     "text": [
      "-=--=--=--=--=--=--=--=--=--=-\n",
      "Vou pensar em um número entre 0 e 5. Tente adivinhar...\n",
      "-=--=--=--=--=--=--=--=--=--=-\n",
      "Parabéns! Você conseguiu me vencer!\n"
     ]
    }
   ],
   "source": [
    "from random import randint\n",
    "computador = randint(0,5)\n",
    "print('-=-'*10)\n",
    "print('Vou pensar em um número entre 0 e 5. Tente adivinhar...')\n",
    "print('-=-'*10)\n",
    "jogador = int(input(\"Em que número eu pensei?\")) # jogador tentando adivinhar \n",
    "if jogador == computador:\n",
    "    print('Parabéns! Você conseguiu me vencer!')\n",
    "else:\n",
    "    print('Ganhei! Eu pensei no número {} e não no {}!'.format(computador,jogador))"
   ]
  },
  {
   "cell_type": "code",
   "execution_count": 9,
   "metadata": {},
   "outputs": [
    {
     "name": "stdout",
     "output_type": "stream",
     "text": [
      "-=--=--=--=--=--=--=--=--=--=-\n",
      "Vou pensar em um número entre 0 e 5. Tente adivinhar...\n",
      "-=--=--=--=--=--=--=--=--=--=-\n",
      "Processando...\n",
      "Ganhei! Eu pensei no número 1 e não no 5!\n"
     ]
    }
   ],
   "source": [
    "from random import randint\n",
    "from time import sleep\n",
    "computador = randint(0,5)\n",
    "print('-=-'*10)\n",
    "print('Vou pensar em um número entre 0 e 5. Tente adivinhar...')\n",
    "print('-=-'*10)\n",
    "jogador = int(input(\"Em que número eu pensei?\")) # jogador tentando adivinhar \n",
    "print('Processando...')\n",
    "sleep(3)\n",
    "if jogador == computador:\n",
    "    print('Parabéns! Você conseguiu me vencer!')\n",
    "else:\n",
    "    print('Ganhei! Eu pensei no número {} e não no {}!'.format(computador,jogador))"
   ]
  },
  {
   "cell_type": "markdown",
   "metadata": {},
   "source": [
    "Desafio 029\n",
    "Exercício Python 29: Escreva um programa que leia a velocidade de um carro. Se ele ultrapassar 80Km/h, mostre uma mensagem dizendo que ele foi multado. A multa vai custar R$7,00 por cada Km acima do limite.\n"
   ]
  },
  {
   "cell_type": "code",
   "execution_count": 13,
   "metadata": {},
   "outputs": [
    {
     "name": "stdout",
     "output_type": "stream",
     "text": [
      "Multado! Você excedeu o limite permitido que é 80km/h\n",
      "Você deve pagar uma multa de R$140.00!\n",
      "Tenha um bom dia! Dirija com cuidado !\n"
     ]
    }
   ],
   "source": [
    "# condição simples pq não tem o else\n",
    "\n",
    "velocidade = float(input('Qual é a velocidade atual do carro ?'))\n",
    "if velocidade > 80:\n",
    "    print('Multado! Você excedeu o limite permitido que é 80km/h')\n",
    "    multa = (velocidade-80) * 7\n",
    "    print('Você deve pagar uma multa de R${:.2f}!'.format(multa))\n",
    "print('Tenha um bom dia! Dirija com cuidado !')"
   ]
  },
  {
   "cell_type": "code",
   "execution_count": null,
   "metadata": {},
   "outputs": [],
   "source": []
  },
  {
   "cell_type": "markdown",
   "metadata": {},
   "source": [
    "Desafio 030\n",
    "Exercício Python 30: Crie um programa que leia um número inteiro e mostre na tela se ele é PAR ou ÍMPAR.\n"
   ]
  },
  {
   "cell_type": "code",
   "execution_count": 14,
   "metadata": {},
   "outputs": [
    {
     "name": "stdout",
     "output_type": "stream",
     "text": [
      "O número 5 é ÍMPAR\n"
     ]
    }
   ],
   "source": [
    "número = int(input('Me diga um número qualquer:'))\n",
    "resultado = número % 2\n",
    "if resultado == 0:\n",
    "    print('O número {} é PAR'.format(número))\n",
    "else:\n",
    "    print('O número {} é ÍMPAR'.format(número))\n"
   ]
  },
  {
   "cell_type": "code",
   "execution_count": null,
   "metadata": {},
   "outputs": [],
   "source": []
  },
  {
   "cell_type": "markdown",
   "metadata": {},
   "source": [
    "Desafio 031\n",
    "Exercício Python 31: Desenvolva um programa que pergunte a distância de uma viagem em Km. Calcule o preço da passagem, cobrando R$0,50 por Km para viagens de até 200Km e R$0,45 parta viagens mais longas.\n",
    "\n"
   ]
  },
  {
   "cell_type": "code",
   "execution_count": 17,
   "metadata": {},
   "outputs": [
    {
     "name": "stdout",
     "output_type": "stream",
     "text": [
      "Você está prestes a começar uma viagem de 100.0km.\n",
      "E o preço da sua passagem será de R$50.00\n"
     ]
    }
   ],
   "source": [
    "distância = float(input(\"Qual é a distância da sua viagem?\"))\n",
    "print('Você está prestes a começar uma viagem de {}km.'.format(distância))\n",
    "if distância <= 200:\n",
    "    preço = distância * 0.50\n",
    "else:\n",
    "    preço = distância * 0.45\n",
    "print('E o preço da sua passagem será de R${:.2f}'.format(preço))\n",
    "\n"
   ]
  },
  {
   "cell_type": "code",
   "execution_count": 19,
   "metadata": {},
   "outputs": [
    {
     "name": "stdout",
     "output_type": "stream",
     "text": [
      "Você está prestes a começar uma viagem de 100.0km.\n",
      "E o preço da sua passagem será de R$50.00\n"
     ]
    }
   ],
   "source": [
    "distância = float(input(\"Qual é a distância da sua viagem?\"))\n",
    "print('Você está prestes a começar uma viagem de {}km.'.format(distância))\n",
    "preço = distância* 0.50 if distância<= 200 else distância *0.45\n",
    "print('E o preço da sua passagem será de R${:.2f}'.format(preço))"
   ]
  },
  {
   "cell_type": "markdown",
   "metadata": {},
   "source": [
    "Desafio 032\n",
    "Exercício Python 32: Faça um programa que leia um ano qualquer e mostre se ele é bissexto.\n",
    "\n"
   ]
  },
  {
   "cell_type": "code",
   "execution_count": 24,
   "metadata": {},
   "outputs": [
    {
     "name": "stdout",
     "output_type": "stream",
     "text": [
      "O ano 2026 NÃO É BISSEXTO\n"
     ]
    }
   ],
   "source": [
    "ano = int(input('Que ano quer analisar?'))\n",
    "if ano % 4 == 0: \n",
    "    print('O ano {} é BISSEXTO'.format(ano))\n",
    "else:\n",
    "    print('O ano {} NÃO É BISSEXTO'.format(ano))"
   ]
  },
  {
   "cell_type": "code",
   "execution_count": 29,
   "metadata": {},
   "outputs": [
    {
     "name": "stdout",
     "output_type": "stream",
     "text": [
      "O ano 1900 NÃO É BISSEXTO\n"
     ]
    }
   ],
   "source": [
    "ano = int(input('Que ano quer analisar?'))\n",
    "if ano % 4 == 0 and ano % 100 != 0 or ano % 400 == 0:\n",
    "    print('O ano {} é BISSEXTO'.format(ano))\n",
    "else:\n",
    "    print('O ano {} NÃO É BISSEXTO'.format(ano))"
   ]
  },
  {
   "cell_type": "code",
   "execution_count": 32,
   "metadata": {},
   "outputs": [
    {
     "name": "stdout",
     "output_type": "stream",
     "text": [
      "O ano 2024 é BISSEXTO\n"
     ]
    }
   ],
   "source": [
    "from datetime import date \n",
    "ano = int(input('Que ano quer analisar? Coloque 0 para analisar o ano atual:'))\n",
    "if ano == 0:\n",
    "    ano = date.today().year\n",
    "if ano % 4 == 0 and ano % 100 != 0 or ano % 400 == 0:\n",
    "    print('O ano {} é BISSEXTO'.format(ano))\n",
    "else:\n",
    "    print('O ano {} NÃO É BISSEXTO'.format(ano))"
   ]
  },
  {
   "cell_type": "markdown",
   "metadata": {},
   "source": [
    "Desafio 033\n",
    "Exercício Python 33: Faça um programa que leia três números e mostre qual é o maior e qual é o menor.\n",
    "\n",
    "aqui começa estrutura de controle "
   ]
  },
  {
   "cell_type": "code",
   "execution_count": 33,
   "metadata": {},
   "outputs": [
    {
     "name": "stdout",
     "output_type": "stream",
     "text": [
      "O menor valor dgitado foi 2\n",
      "O maior valor dgitado foi 5\n"
     ]
    }
   ],
   "source": [
    "a = int(input('Primeiro valor:'))\n",
    "b = int(input('Segundo valor:'))\n",
    "c = int(input('Terceiro valor:'))\n",
    "#verificando quem é menor\n",
    "menor = a \n",
    "if b<a and b<c:\n",
    "    menor = b\n",
    "if c<a and c< b:\n",
    "    menor = c\n",
    "    maior = a\n",
    "    #verificando quem é o maior\n",
    "if b>a and b>c:\n",
    "    maior = b\n",
    "if c>a and c>b:\n",
    "    maior = c\n",
    "print(\"O menor valor dgitado foi {}\".format(menor))\n",
    "print(\"O maior valor dgitado foi {}\".format(maior))"
   ]
  },
  {
   "cell_type": "code",
   "execution_count": null,
   "metadata": {},
   "outputs": [],
   "source": []
  },
  {
   "cell_type": "markdown",
   "metadata": {},
   "source": [
    "Desafio 034\n",
    "Exercício Python 34: Escreva um programa que pergunte o salário de um funcionário e calcule o valor do seu aumento. Para salários superiores a R$1250,00, calcule um aumento de 10%. Para os inferiores ou iguais, o aumento é de 15%.\n"
   ]
  },
  {
   "cell_type": "code",
   "execution_count": 34,
   "metadata": {},
   "outputs": [
    {
     "name": "stdout",
     "output_type": "stream",
     "text": [
      "Quem ganhava R$800.00 passa a ganhar R$920.00 agora.\n"
     ]
    }
   ],
   "source": [
    "salário = float(input('Qual é o salário do funcionário?R$'))\n",
    "if salário<= 1250:\n",
    "    novo = salário + (salário *15 / 100)\n",
    "else:\n",
    "    novo = salário + (salário * 10 / 100)\n",
    "print ('Quem ganhava R${:.2f} passa a ganhar R${:.2f} agora.'.format(salário,novo))\n"
   ]
  },
  {
   "cell_type": "code",
   "execution_count": null,
   "metadata": {},
   "outputs": [],
   "source": []
  },
  {
   "cell_type": "markdown",
   "metadata": {},
   "source": [
    "Desafio 035\n",
    "Exercício Python 35: Desenvolva um programa que leia o comprimento de três retas e diga ao usuário se elas podem ou não formar um triângulo.\n",
    "\n"
   ]
  },
  {
   "cell_type": "code",
   "execution_count": 39,
   "metadata": {},
   "outputs": [
    {
     "name": "stdout",
     "output_type": "stream",
     "text": [
      "-=-=-=-=-=-=-=-=-=-=-=-=-=-=-=-=-=-=-=-=\n",
      "Analisandor de Triângulo\n",
      "-=-=-=-=-=-=-=-=-=-=-=-=-=-=-=-=-=-=-=-=\n",
      "Os segmentos acima NÃO PODEM FORMAR triângulo!\n"
     ]
    }
   ],
   "source": [
    "print('-='*20)\n",
    "print('Analisandor de Triângulo')\n",
    "print('-='*20)\n",
    "\n",
    "r1 = float (input('Primeiro segmento :'))\n",
    "r2 = float (input('Segundo segmento  :'))\n",
    "r3 = float (input('Terceiro segmento :'))\n",
    "if r1 < r2 + r3 and r2 < r1 + r3 and r3 < r1 + r2:\n",
    "    print('Os segmentos acima PODEM FORMAR triângulo!')\n",
    "else:\n",
    "     print('Os segmentos acima NÃO PODEM FORMAR triângulo!')"
   ]
  },
  {
   "cell_type": "markdown",
   "metadata": {},
   "source": [
    "Desafio 03"
   ]
  },
  {
   "cell_type": "code",
   "execution_count": null,
   "metadata": {},
   "outputs": [],
   "source": []
  }
 ],
 "metadata": {
  "kernelspec": {
   "display_name": "Python 3",
   "language": "python",
   "name": "python3"
  },
  "language_info": {
   "codemirror_mode": {
    "name": "ipython",
    "version": 3
   },
   "file_extension": ".py",
   "mimetype": "text/x-python",
   "name": "python",
   "nbconvert_exporter": "python",
   "pygments_lexer": "ipython3",
   "version": "3.12.4"
  }
 },
 "nbformat": 4,
 "nbformat_minor": 2
}
